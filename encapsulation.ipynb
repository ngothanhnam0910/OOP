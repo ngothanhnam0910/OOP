{
 "cells": [
  {
   "cell_type": "code",
   "execution_count": 1,
   "metadata": {},
   "outputs": [
    {
     "name": "stdout",
     "output_type": "stream",
     "text": [
      "Car brand: Toyota\n",
      "Driving the Toyota car.\n"
     ]
    }
   ],
   "source": [
    "# 1. Public\n",
    "class Car:\n",
    "    def __init__(self, brand):\n",
    "        self.brand = brand  # Public attribute\n",
    "\n",
    "    def drive(self):\n",
    "        print(f\"Driving the {self.brand} car.\")\n",
    "\n",
    "# Creating an instance of Car\n",
    "my_car = Car(\"Toyota\")\n",
    "\n",
    "# Accessing public attribute and method\n",
    "print(\"Car brand:\", my_car.brand)\n",
    "my_car.drive()"
   ]
  },
  {
   "cell_type": "code",
   "execution_count": 2,
   "metadata": {},
   "outputs": [
    {
     "name": "stdout",
     "output_type": "stream",
     "text": [
      "Dog's name: Buddy\n",
      "Woof!\n"
     ]
    }
   ],
   "source": [
    "# Protected\n",
    "class Animal:\n",
    "    def __init__(self, name):\n",
    "        self._name = name  # Protected attribute\n",
    "\n",
    "    def make_sound(self):\n",
    "        pass  # Placeholder for method in subclasses\n",
    "\n",
    "class Dog(Animal):\n",
    "    def __init__(self, name, breed):\n",
    "        super().__init__(name)\n",
    "        self.breed = breed\n",
    "\n",
    "    def make_sound(self):\n",
    "        print(\"Woof!\")\n",
    "\n",
    "# Creating an instance of Dog\n",
    "my_dog = Dog(\"Buddy\", \"Golden Retriever\")\n",
    "\n",
    "# Accessing protected attribute\n",
    "print(\"Dog's name:\", my_dog._name)\n",
    "\n",
    "# Accessing protected method\n",
    "my_dog.make_sound()"
   ]
  },
  {
   "cell_type": "code",
   "execution_count": 3,
   "metadata": {},
   "outputs": [
    {
     "name": "stdout",
     "output_type": "stream",
     "text": [
      "Name: John, Salary: $50000\n"
     ]
    }
   ],
   "source": [
    "# private\n",
    "class Employee:\n",
    "    def __init__(self, name, salary):\n",
    "        self.__name = name        # Private attribute\n",
    "        self.__salary = salary    # Private attribute\n",
    "\n",
    "    def display_details(self):\n",
    "        print(f\"Name: {self.__name}, Salary: ${self.__salary}\")\n",
    "\n",
    "# Creating an instance of Employee\n",
    "emp1 = Employee(\"John\", 50000)\n",
    "\n",
    "# Attempting to access private attributes directly (will result in AttributeError)\n",
    "# print(emp1.__name)\n",
    "# Accessing private attribute using a method\n",
    "emp1.display_details()"
   ]
  },
  {
   "cell_type": "code",
   "execution_count": null,
   "metadata": {},
   "outputs": [],
   "source": []
  }
 ],
 "metadata": {
  "kernelspec": {
   "display_name": "fastapi",
   "language": "python",
   "name": "python3"
  },
  "language_info": {
   "codemirror_mode": {
    "name": "ipython",
    "version": 3
   },
   "file_extension": ".py",
   "mimetype": "text/x-python",
   "name": "python",
   "nbconvert_exporter": "python",
   "pygments_lexer": "ipython3",
   "version": "3.10.14"
  }
 },
 "nbformat": 4,
 "nbformat_minor": 2
}
